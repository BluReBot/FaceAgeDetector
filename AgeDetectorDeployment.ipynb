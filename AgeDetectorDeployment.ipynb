{
 "cells": [
  {
   "cell_type": "code",
   "execution_count": null,
   "metadata": {
    "id": "0HyotsvXmWT4"
   },
   "outputs": [],
   "source": [
    "from fastai.vision.all import *"
   ]
  },
  {
   "cell_type": "code",
   "execution_count": null,
   "metadata": {
    "id": "Bq_RjSBn8QAr",
    "scrolled": true
   },
   "outputs": [],
   "source": []
  },
  {
   "cell_type": "markdown",
   "metadata": {
    "id": "OHFbjEBWn_ga"
   },
   "source": [
    "# Face Age Detector\n",
    "\n",
    "Upload a picture to see how old you look like!"
   ]
  },
  {
   "cell_type": "code",
   "execution_count": null,
   "metadata": {
    "id": "HOwZj3CZquHC"
   },
   "outputs": [],
   "source": [
    "import ipywidgets as widgets"
   ]
  },
  {
   "cell_type": "code",
   "execution_count": null,
   "metadata": {
    "id": "CCCoKIIgqjh1"
   },
   "outputs": [],
   "source": [
    "uploadButton = widgets.FileUpload()\n"
   ]
  },
  {
   "cell_type": "code",
   "execution_count": null,
   "metadata": {
    "id": "ITvlZ-CjrWet"
   },
   "outputs": [],
   "source": [
    "#image = PILImage.create(uploadButton.data[-1])\n",
    "outPic = widgets.Output()\n",
    "#outPic.clear_output()\n",
    "#with outPic: display(image.to_thumb(256, 256))\n"
   ]
  },
  {
   "cell_type": "code",
   "execution_count": null,
   "metadata": {},
   "outputs": [],
   "source": [
    "import pathlib\n",
    "temp = pathlib.PosixPath\n",
    "pathlib.PosixPath = pathlib.WindowsPath"
   ]
  },
  {
   "cell_type": "code",
   "execution_count": null,
   "metadata": {
    "id": "nIYkAbU8sbVj"
   },
   "outputs": [],
   "source": [
    "def label_func(fname):\n",
    "  return float(fname.name.split('_')[0])"
   ]
  },
  {
   "cell_type": "code",
   "execution_count": null,
   "metadata": {
    "id": "gVV7K94Ar6PX"
   },
   "outputs": [],
   "source": [
    "path = Path()\n",
    "model = load_learner(path/\"magicFaceModel.pkl\")\n",
    "#pred, a, b = model.predict(image)\n"
   ]
  },
  {
   "cell_type": "code",
   "execution_count": null,
   "metadata": {
    "id": "7Xfq8A1AtNJe"
   },
   "outputs": [],
   "source": []
  },
  {
   "cell_type": "code",
   "execution_count": 22,
   "metadata": {
    "id": "r94gyUsrs91E"
   },
   "outputs": [],
   "source": [
    "outputLabel = widgets.Label()\n",
    "#outputLabel.value = f\"You look like a(n) {round(pred[0])} year old.\""
   ]
  },
  {
   "cell_type": "code",
   "execution_count": 35,
   "metadata": {
    "id": "jhBx3zvxvMj5"
   },
   "outputs": [],
   "source": [
    "def onClick(change):\n",
    "  image = PILImage.create(uploadButton.value[-1].content.tobytes())\n",
    "\n",
    "  outPic.clear_output()\n",
    "  with outPic: display(image.to_thumb(256, 256))\n",
    "  pred, a, b = model.predict(image)\n",
    "  outputLabel.value = f\"You look like a {round(pred[0])} year old.\""
   ]
  },
  {
   "cell_type": "code",
   "execution_count": 36,
   "metadata": {
    "id": "79dtsoJTvyhG"
   },
   "outputs": [],
   "source": [
    "detectButton = widgets.Button(description = \"Detect\")\n",
    "detectButton.on_click(onClick)\n"
   ]
  },
  {
   "cell_type": "code",
   "execution_count": 38,
   "metadata": {
    "id": "QEv3xv43xKkh"
   },
   "outputs": [
    {
     "data": {
      "application/vnd.jupyter.widget-view+json": {
       "model_id": "104de673995a4bdeb58854ce0af08ec1",
       "version_major": 2,
       "version_minor": 0
      },
      "text/plain": [
       "VBox(children=(FileUpload(value=({'name': 'YDXJ0008.JPG', 'type': 'image/jpeg', 'size': 4468694, 'content': <m…"
      ]
     },
     "metadata": {},
     "output_type": "display_data"
    }
   ],
   "source": [
    "display(widgets.VBox([uploadButton, outPic, detectButton, outputLabel]))"
   ]
  },
  {
   "cell_type": "code",
   "execution_count": null,
   "metadata": {},
   "outputs": [],
   "source": []
  }
 ],
 "metadata": {
  "colab": {
   "provenance": []
  },
  "kernelspec": {
   "display_name": "Python 3 (ipykernel)",
   "language": "python",
   "name": "python3"
  },
  "language_info": {
   "codemirror_mode": {
    "name": "ipython",
    "version": 3
   },
   "file_extension": ".py",
   "mimetype": "text/x-python",
   "name": "python",
   "nbconvert_exporter": "python",
   "pygments_lexer": "ipython3",
   "version": "3.8.10"
  }
 },
 "nbformat": 4,
 "nbformat_minor": 1
}
