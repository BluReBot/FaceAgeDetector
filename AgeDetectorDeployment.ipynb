{
  "nbformat": 4,
  "nbformat_minor": 0,
  "metadata": {
    "colab": {
      "provenance": [],
      "authorship_tag": "ABX9TyOGpeIMfk+fT3nzGJJRErHg",
      "include_colab_link": true
    },
    "kernelspec": {
      "name": "python3",
      "display_name": "Python 3"
    },
    "language_info": {
      "name": "python"
    }
  },
  "cells": [
    {
      "cell_type": "markdown",
      "metadata": {
        "id": "view-in-github",
        "colab_type": "text"
      },
      "source": [
        "<a href=\"https://colab.research.google.com/github/BluReBot/FaceAgeDetector/blob/main/AgeDetectorDeployment.ipynb\" target=\"_parent\"><img src=\"https://colab.research.google.com/assets/colab-badge.svg\" alt=\"Open In Colab\"/></a>"
      ]
    },
    {
      "cell_type": "code",
      "execution_count": 35,
      "metadata": {
        "id": "0HyotsvXmWT4"
      },
      "outputs": [],
      "source": [
        "from fastai.vision.all import *"
      ]
    },
    {
      "cell_type": "markdown",
      "source": [
        "# Face Age Detector\n",
        "\n",
        "Upload a picture to see how old you look like!"
      ],
      "metadata": {
        "id": "OHFbjEBWn_ga"
      }
    },
    {
      "cell_type": "code",
      "source": [
        "import ipywidgets as widgets"
      ],
      "metadata": {
        "id": "HOwZj3CZquHC"
      },
      "execution_count": 36,
      "outputs": []
    },
    {
      "cell_type": "code",
      "source": [
        "uploadButton = widgets.FileUpload()\n"
      ],
      "metadata": {
        "id": "CCCoKIIgqjh1"
      },
      "execution_count": null,
      "outputs": []
    },
    {
      "cell_type": "code",
      "source": [
        "image = PILImage.create(uploadButton.data[-1])\n",
        "outPic = widgets.Output()\n",
        "outPic.clear_output()\n",
        "with outPic: display(image.to_thumb(256, 256))\n"
      ],
      "metadata": {
        "id": "ITvlZ-CjrWet"
      },
      "execution_count": 49,
      "outputs": []
    },
    {
      "cell_type": "code",
      "source": [
        "def label_func(fname):\n",
        "  return float(fname.name.split('_')[0])"
      ],
      "metadata": {
        "id": "nIYkAbU8sbVj"
      },
      "execution_count": 39,
      "outputs": []
    },
    {
      "cell_type": "code",
      "source": [
        "model = load_learner(\"/content/magicFaceModel.pkl\")\n",
        "pred, a, b = model.predict(image)\n"
      ],
      "metadata": {
        "id": "gVV7K94Ar6PX"
      },
      "execution_count": null,
      "outputs": []
    },
    {
      "cell_type": "code",
      "source": [],
      "metadata": {
        "id": "7Xfq8A1AtNJe"
      },
      "execution_count": null,
      "outputs": []
    },
    {
      "cell_type": "code",
      "source": [
        "outputLabel = widgets.Label()\n",
        "outputLabel.value = f\"You look like a(n) {round(pred[0])} year old.\""
      ],
      "metadata": {
        "id": "r94gyUsrs91E"
      },
      "execution_count": null,
      "outputs": []
    },
    {
      "cell_type": "code",
      "source": [
        "def onClick(change):\n",
        "  image = PILImage.create(uploadButton.data[-1])\n",
        "  outPic.clear_output()\n",
        "  with outPic: display(image.to_thumb(256, 256))\n",
        "  pred, a, b = model.predict(image)\n",
        "  outputLabel.value = f\"You look like a {round(pred[0])} year old.\""
      ],
      "metadata": {
        "id": "jhBx3zvxvMj5"
      },
      "execution_count": 43,
      "outputs": []
    },
    {
      "cell_type": "code",
      "source": [
        "detectButton = widgets.Button(description = \"Detect\")\n",
        "detectButton.on_click(onClick)\n"
      ],
      "metadata": {
        "id": "79dtsoJTvyhG"
      },
      "execution_count": null,
      "outputs": []
    },
    {
      "cell_type": "code",
      "source": [
        "display(widgets.VBox([uploadButton, outPic, detectButton, outputLabel]))"
      ],
      "metadata": {
        "id": "QEv3xv43xKkh"
      },
      "execution_count": null,
      "outputs": []
    }
  ]
}